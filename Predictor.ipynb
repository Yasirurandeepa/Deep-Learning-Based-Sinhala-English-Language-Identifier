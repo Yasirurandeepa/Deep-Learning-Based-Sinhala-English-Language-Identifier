{
 "cells": [
  {
   "cell_type": "code",
   "execution_count": 1,
   "metadata": {},
   "outputs": [
    {
     "name": "stderr",
     "output_type": "stream",
     "text": [
      "Using TensorFlow backend.\n"
     ]
    }
   ],
   "source": [
    "from keras.models import Sequential\n",
    "from keras.layers import Dense\n",
    "from config import max_letters, language_tags\n",
    "import numpy as np\n",
    "from unidecode import unidecode"
   ]
  },
  {
   "cell_type": "code",
   "execution_count": 2,
   "metadata": {},
   "outputs": [],
   "source": [
    "def convert_word_to_vector(lst, max_word_length):\n",
    "    new_list = []\n",
    "    for item in lst:\n",
    "        vec = ''\n",
    "        n = len(item)\n",
    "        for x in range(n):\n",
    "            current_letter = item[x]\n",
    "            ind = ord(current_letter)-97\n",
    "            placeholder = (str(0)*ind) + str(1) + str(0)*(25-ind)\n",
    "            vec = vec + placeholder\n",
    "        if n < max_word_length:\n",
    "            excess = max_word_length-n\n",
    "            vec = vec + str(0)*26*excess\n",
    "        new_list.append(vec)\n",
    "    return new_list"
   ]
  },
  {
   "cell_type": "code",
   "execution_count": 3,
   "metadata": {},
   "outputs": [
    {
     "name": "stdout",
     "output_type": "stream",
     "text": [
      "WARNING:tensorflow:From C:\\Users\\Yasiru Randeepa\\Anaconda3\\envs\\dl4nlp\\lib\\site-packages\\tensorflow\\python\\framework\\op_def_library.py:263: colocate_with (from tensorflow.python.framework.ops) is deprecated and will be removed in a future version.\n",
      "Instructions for updating:\n",
      "Colocations handled automatically by placer.\n"
     ]
    }
   ],
   "source": [
    "network = Sequential()\n",
    "network.add(Dense(200, input_dim=26*max_letters, activation='sigmoid'))\n",
    "network.add(Dense(150, activation='sigmoid'))\n",
    "network.add(Dense(100, activation='sigmoid'))\n",
    "network.add(Dense(100, activation='sigmoid'))\n",
    "network.add(Dense(len(language_tags), activation='softmax'))\n",
    "network.load_weights('weights.hdf5')\n",
    "network.compile(loss='mean_squared_error', optimizer='sgd', metrics=['accuracy'])"
   ]
  },
  {
   "cell_type": "code",
   "execution_count": null,
   "metadata": {},
   "outputs": [],
   "source": [
    "# def predict_lang(word):\n",
    "#     dic = []\n",
    "#     if len(word) <= max_letters:\n",
    "#         word = word.lower()\n",
    "#         word = unidecode(word)\n",
    "#     dic.append(word)\n",
    "#     vct_str = convert_word_to_vector(dic, max_letters)\n",
    "#     vct = np.zeros((1, 26 * max_letters))\n",
    "#     count = 0\n",
    "#     for digit in vct_str[0]:\n",
    "#         vct[0, count] = int(digit)\n",
    "#         count += 1\n",
    "#     prediction_vct = network.predict(vct)\n",
    "#     langs = list(language_tags.keys())\n",
    "#     scores = []\n",
    "#     for i in range(len(language_tags)):\n",
    "#         scores.append(prediction_vct[0][i])\n",
    "#     return langs[scores.index(max(scores))]"
   ]
  },
  {
   "cell_type": "code",
   "execution_count": null,
   "metadata": {},
   "outputs": [],
   "source": [
    "def predict_lang(word):\n",
    "    dic = []\n",
    "    if len(word) <= max_letters:\n",
    "        word = word.lower()\n",
    "        word = unidecode(word)\n",
    "    dic.append(word)\n",
    "    vct_str = convert_word_to_vector(dic, max_letters)\n",
    "    vct = np.zeros((1, 26 * max_letters))\n",
    "    count = 0\n",
    "    for digit in vct_str[0]:\n",
    "        vct[0, count] = int(digit)\n",
    "        count += 1\n",
    "    prediction_vct = network.predict(vct)\n",
    "    langs = list(language_tags.keys())\n",
    "    for i in range(len(language_tags)):\n",
    "        lang = langs[i]\n",
    "        score = prediction_vct[0][i]\n",
    "        print(lang + ': ' + str(round(100*score, 2)) + '%')"
   ]
  },
  {
   "cell_type": "code",
   "execution_count": null,
   "metadata": {},
   "outputs": [
    {
     "name": "stdout",
     "output_type": "stream",
     "text": [
      "Enter word to predict:\n",
      "saman\n",
      "en: 0.1%\n",
      "si: 99.9%\n",
      "Enter word to predict:\n",
      "building\n",
      "en: 100.0%\n",
      "si: 0.0%\n",
      "Enter word to predict:\n",
      "dog\n",
      "en: 99.98%\n",
      "si: 0.02%\n",
      "Enter word to predict:\n",
      "cat\n",
      "en: 100.0%\n",
      "si: 0.0%\n",
      "Enter word to predict:\n",
      "අම්මා\n",
      "en: 0.0%\n",
      "si: 100.0%\n",
      "Enter word to predict:\n",
      "බිල්ඩිම\n",
      "en: 0.0%\n",
      "si: 100.0%\n"
     ]
    }
   ],
   "source": [
    "while True:\n",
    "    while True:\n",
    "        word = input('Enter word to predict:\\n')\n",
    "        predict_lang(word)\n",
    "            "
   ]
  },
  {
   "cell_type": "code",
   "execution_count": null,
   "metadata": {},
   "outputs": [],
   "source": []
  }
 ],
 "metadata": {
  "kernelspec": {
   "display_name": "Python 3",
   "language": "python",
   "name": "python3"
  },
  "language_info": {
   "codemirror_mode": {
    "name": "ipython",
    "version": 3
   },
   "file_extension": ".py",
   "mimetype": "text/x-python",
   "name": "python",
   "nbconvert_exporter": "python",
   "pygments_lexer": "ipython3",
   "version": "3.6.8"
  }
 },
 "nbformat": 4,
 "nbformat_minor": 2
}
